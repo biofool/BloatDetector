{
 "cells": [
  {
   "cell_type": "markdown",
   "source": [
    "Examining the output from the Files Stats Collector\n",
    "files_packages.csv:  Contains \n"
   ],
   "metadata": {
    "collapsed": false
   },
   "id": "a4c27ed6f04db508"
  },
  {
   "cell_type": "code",
   "execution_count": null,
   "outputs": [],
   "source": [
    "# This is an experimental file choser \n",
    "# import ipywidgets as widgets\n",
    "# from IPython.display import display\n",
    "# from IPython.display import clear_output\n",
    "# \n",
    "# # Create a file upload widget\n",
    "# file_upload = widgets.FileUpload(\n",
    "#     accept='.csv',  # Specify the accepted file types (e.g., .csv)\n",
    "#     multiple=False  # Set to True if you want to allow multiple file uploads\n",
    "# )\n",
    "# \n",
    "# # Display the file upload widget\n",
    "# display(file_upload)\n",
    "# \n",
    "# # Function to handle file upload\n",
    "# def handle_upload(change):\n",
    "#     uploaded_filename = list(file_upload.value.keys())[0]\n",
    "#     uploaded_file = file_upload.value[uploaded_filename]['content']\n",
    "#     \n",
    "#     # You can process the uploaded file here, for example, by saving it or reading its content\n",
    "#     # For demonstration purposes, let's print the content\n",
    "#     clear_output()  # Clear the widget's output\n",
    "#     print(f\"Uploaded File Name: {uploaded_filename}\")\n",
    "#     print(\"File Content:\")\n",
    "#     print(uploaded_file.decode('utf-8'))  # Assuming it's a text file\n",
    "# \n",
    "# # Attach the handle_upload function to the widget's change event\n",
    "# file_upload.observe(handle_upload, names='value')\n"
   ],
   "metadata": {
    "collapsed": false
   },
   "id": "593365bd109e76a4"
  },
  {
   "cell_type": "code",
   "execution_count": 3,
   "outputs": [],
   "source": [
    "import pandas as pd"
   ],
   "metadata": {
    "collapsed": false,
    "ExecuteTime": {
     "end_time": "2023-12-15T08:01:37.609213551Z",
     "start_time": "2023-12-15T08:01:37.601584595Z"
    }
   },
   "id": "8db3deeab246f661"
  },
  {
   "cell_type": "code",
   "execution_count": 4,
   "outputs": [],
   "source": [
    "\n",
    "# Load the CSV files\n",
    "files_packages = pd.read_csv('files_packages.csv')  # Columns: path, package\n",
    "files_info = pd.read_csv('files_info.csv', delimiter='|')  # Columns: path, creation_time, access_time"
   ],
   "metadata": {
    "collapsed": false,
    "ExecuteTime": {
     "end_time": "2023-12-15T08:01:37.817813455Z",
     "start_time": "2023-12-15T08:01:37.611671572Z"
    }
   },
   "id": "acc7759a994fcda1"
  },
  {
   "cell_type": "code",
   "execution_count": 5,
   "outputs": [
    {
     "name": "stdout",
     "output_type": "stream",
     "text": [
      "Files in files_packages not in files_info:\n",
      "                                                 path\n",
      "0                                                  /.\n",
      "1                                                  /.\n",
      "2                                                  /.\n",
      "3                                                  /.\n",
      "4                                                  /.\n",
      "...                                               ...\n",
      "121158      /usr/share/doc/zlib1g-dev/examples/zran.c\n",
      "121159      /usr/share/doc/zlib1g-dev/txtvsbin.txt.gz\n",
      "121160                  /usr/share/man/man3/zlib.3.gz\n",
      "121161              /usr/lib/x86_64-linux-gnu/libz.so\n",
      "121162  /usr/share/doc/zlib1g-dev/changelog.Debian.gz\n",
      "\n",
      "[105343 rows x 1 columns]\n"
     ]
    }
   ],
   "source": [
    "# Merge dataframes on 'path' with an outer join to find unmatched files\n",
    "merged_df = pd.merge(files_packages, files_info, on='path', how='outer', indicator=True)\n",
    "\n",
    "# Report files in files_packages that are not in files_info\n",
    "unreported_files_packages = merged_df[merged_df['_merge'] == 'left_only']\n",
    "print(\"Files in files_packages not in files_info:\")\n",
    "print(unreported_files_packages[['path']])\n"
   ],
   "metadata": {
    "collapsed": false,
    "ExecuteTime": {
     "end_time": "2023-12-15T08:01:37.977139204Z",
     "start_time": "2023-12-15T08:01:37.820409245Z"
    }
   },
   "id": "921319f074e1e6e1"
  },
  {
   "cell_type": "code",
   "execution_count": 8,
   "outputs": [
    {
     "name": "stdout",
     "output_type": "stream",
     "text": [
      "\n",
      "Directories with non-packaged files and their file counts:\n",
      "directory\n",
      "/bin                         7\n",
      "/boot                       10\n",
      "/boot/grub                   5\n",
      "/boot/grub/fonts             1\n",
      "/boot/grub/i386-pc         269\n",
      "                          ... \n",
      "/var/www/vems/viewer         6\n",
      "/var/www/vems/viewer/js      3\n",
      "/var/www/vems/vx            15\n",
      "/var/www/vems/vx/js         33\n",
      "/var/www/vems/xml            5\n",
      "Length: 14315, dtype: int64\n"
     ]
    }
   ],
   "source": [
    "# Add 'directory' column to merged_df by extracting it from the 'path' column\n",
    "merged_df['directory'] = merged_df['path'].apply(lambda x: '/'.join(x.split('/')[:-1]) if pd.notnull(x) else x)\n",
    "\n",
    "# Filter out files that are not in files_packages\n",
    "non_packaged_files = merged_df[merged_df['_merge'] == 'right_only']\n",
    "\n",
    "# Group by directory and count files\n",
    "directory_counts = non_packaged_files.groupby('directory').size()\n",
    "print(\"\\nDirectories with non-packaged files and their file counts:\")\n",
    "print(directory_counts)\n"
   ],
   "metadata": {
    "collapsed": false,
    "ExecuteTime": {
     "end_time": "2023-12-15T08:04:40.320314621Z",
     "start_time": "2023-12-15T08:04:40.173739001Z"
    }
   },
   "id": "6ba8e9478ad0301"
  },
  {
   "cell_type": "code",
   "outputs": [],
   "source": [
    "# Merge the dataframes on 'path'\n",
    "merged_df = pd.merge(files_packages, files_info, on='path')\n",
    "\n",
    "# Group by 'package' and get the oldest 'access_time'\n",
    "oldest_access_times = merged_df.groupby('package')['access_time'].min()\n",
    "oldest_access_times"
   ],
   "metadata": {
    "collapsed": false
   },
   "id": "f77865d3eada6994"
  },
  {
   "cell_type": "code",
   "outputs": [],
   "source": [
    "oldest_access_times= oldest_access_times.to_frame()"
   ],
   "metadata": {
    "collapsed": false
   },
   "id": "7cdd46bcb304ddab"
  },
  {
   "cell_type": "code",
   "outputs": [],
   "source": [
    "\n",
    "min_epoch_time = oldest_access_times['access_time'].min()\n",
    "oldest_access_times['days_since_min_epoch'] = (oldest_access_times['access_time'] - min_epoch_time) /(24*60*60)\n",
    "# Convert 'access_time' to datetime format\n",
    "oldest_access_times['access_time'] = pd.to_datetime(oldest_access_times['access_time'], unit='s')\n",
    "\n",
    "# Now you can use the .dt accessor\n",
    "\n",
    "oldest_access_times['access_date'] = oldest_access_times['access_time'].dt.strftime('%Y-%m-%d')\n",
    "\n",
    "# Format the 'access_time' column as YYYY-MM-DD\n",
    "\n",
    "\n",
    "# Sort the packages by access time in ascending order\n",
    "sorted_packages = oldest_access_times_reset = oldest_access_times.reset_index()\n",
    "sorted_packages = sorted_packages.sort_values('access_time')\n",
    "\n",
    "# Now, 'oldest_access_times_reset' contains the package names as a regular column\n"
   ],
   "metadata": {
    "collapsed": false
   },
   "id": "77bc13d780fae87e"
  },
  {
   "cell_type": "code",
   "outputs": [],
   "source": [
    "# Exporting the DataFrame to a CSV file\n",
    "sorted_packages.to_csv('oldest_access_times.csv', index=False)\n"
   ],
   "metadata": {
    "collapsed": false
   },
   "id": "38eff523365319ae"
  },
  {
   "cell_type": "code",
   "execution_count": 10,
   "outputs": [],
   "source": [],
   "metadata": {
    "collapsed": false,
    "ExecuteTime": {
     "end_time": "2023-12-15T08:11:41.036809272Z",
     "start_time": "2023-12-15T08:11:40.994941302Z"
    }
   },
   "id": "8ba9bf14dc1b9bbe"
  }
 ],
 "metadata": {
  "kernelspec": {
   "display_name": "Python 3",
   "language": "python",
   "name": "python3"
  },
  "language_info": {
   "codemirror_mode": {
    "name": "ipython",
    "version": 2
   },
   "file_extension": ".py",
   "mimetype": "text/x-python",
   "name": "python",
   "nbconvert_exporter": "python",
   "pygments_lexer": "ipython2",
   "version": "2.7.6"
  }
 },
 "nbformat": 4,
 "nbformat_minor": 5
}
